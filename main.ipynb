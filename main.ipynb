{
 "cells": [
  {
   "cell_type": "code",
   "execution_count": 2,
   "id": "5b6344ec",
   "metadata": {},
   "outputs": [],
   "source": [
    "# project: p10\n",
    "# submitter: csharma4@wisc.edu\n",
    "# partner: none\n",
    "# hours: 4"
   ]
  },
  {
   "cell_type": "code",
   "execution_count": 3,
   "id": "5f811b2a",
   "metadata": {},
   "outputs": [],
   "source": [
    "import os\n",
    "import csv\n",
    "import json\n",
    "from collections import namedtuple"
   ]
  },
  {
   "cell_type": "code",
   "execution_count": 4,
   "id": "b6d439e7",
   "metadata": {},
   "outputs": [],
   "source": [
    "def list_files_in(pathname):\n",
    "    \"\"\"\n",
    "    Given a (relative) path called pathname, return a list of files at this path. \n",
    "    Make sure to exclude files that start with a \".\" from your list, \n",
    "    and that your list of files is sorted alphabetically before you return it.\n",
    "    \"\"\"\n",
    "    data = sorted(os.listdir(pathname))\n",
    "    import copy\n",
    "    Data = copy.deepcopy(data)\n",
    "    for i in data:\n",
    "        if i[0] == '.':\n",
    "            Data.remove(i)\n",
    "    return Data"
   ]
  },
  {
   "cell_type": "code",
   "execution_count": 5,
   "id": "5bd2e834",
   "metadata": {},
   "outputs": [
    {
     "data": {
      "text/plain": [
       "['channel_ids1.json',\n",
       " 'channel_ids2.json',\n",
       " 'channel_ids3.json',\n",
       " 'channel_ids4.json',\n",
       " 'channel_ids5.json',\n",
       " 'comment_data1.csv',\n",
       " 'comment_data2.csv',\n",
       " 'comment_data3.csv',\n",
       " 'comment_data4.csv',\n",
       " 'comment_data5.csv',\n",
       " 'video_data.csv',\n",
       " 'video_ids.json']"
      ]
     },
     "execution_count": 5,
     "metadata": {},
     "output_type": "execute_result"
    }
   ],
   "source": [
    "#Q1: What are the names of the files present in the data directory?\n",
    "list_files_in('data')"
   ]
  },
  {
   "cell_type": "code",
   "execution_count": 6,
   "id": "b9a3bd35",
   "metadata": {},
   "outputs": [],
   "source": [
    "def list_paths_in(pathname):\n",
    "    \"\"\"\n",
    "    Gets a list of files in pathname directory and generates relative paths to all the files,\n",
    "    using os.path.join function.\n",
    "    Returns a list of relative paths to each file inside pathname directory.\n",
    "    \"\"\"\n",
    "    data = list_files_in(pathname)\n",
    "    dirpath = []\n",
    "    for i in range(len(data)):\n",
    "        path = os.path.join('data',data[i])\n",
    "        dirpath.append(path)\n",
    "    return dirpath"
   ]
  },
  {
   "cell_type": "code",
   "execution_count": 7,
   "id": "b37b264b",
   "metadata": {},
   "outputs": [
    {
     "data": {
      "text/plain": [
       "['data\\\\channel_ids1.json',\n",
       " 'data\\\\channel_ids2.json',\n",
       " 'data\\\\channel_ids3.json',\n",
       " 'data\\\\channel_ids4.json',\n",
       " 'data\\\\channel_ids5.json',\n",
       " 'data\\\\comment_data1.csv',\n",
       " 'data\\\\comment_data2.csv',\n",
       " 'data\\\\comment_data3.csv',\n",
       " 'data\\\\comment_data4.csv',\n",
       " 'data\\\\comment_data5.csv',\n",
       " 'data\\\\video_data.csv',\n",
       " 'data\\\\video_ids.json']"
      ]
     },
     "execution_count": 7,
     "metadata": {},
     "output_type": "execute_result"
    }
   ],
   "source": [
    "#Q2: What are the paths of all the files in the data directory?\n",
    "data_paths = list_paths_in('data')\n",
    "data_paths"
   ]
  },
  {
   "cell_type": "code",
   "execution_count": 8,
   "id": "aff82498",
   "metadata": {},
   "outputs": [
    {
     "data": {
      "text/plain": [
       "['data\\\\comment_data1.csv',\n",
       " 'data\\\\comment_data2.csv',\n",
       " 'data\\\\comment_data3.csv',\n",
       " 'data\\\\comment_data4.csv',\n",
       " 'data\\\\comment_data5.csv']"
      ]
     },
     "execution_count": 8,
     "metadata": {},
     "output_type": "execute_result"
    }
   ],
   "source": [
    "#Q3: What are the paths of all the files whose name contains comment_data in our data directory?\n",
    "comment_paths = []\n",
    "for path in data_paths:\n",
    "    if 'comment_data' in path:\n",
    "        comment_paths.append(path)\n",
    "comment_paths"
   ]
  },
  {
   "cell_type": "code",
   "execution_count": 9,
   "id": "7f8505ab",
   "metadata": {},
   "outputs": [
    {
     "data": {
      "text/plain": [
       "['data\\\\channel_ids1.json',\n",
       " 'data\\\\channel_ids2.json',\n",
       " 'data\\\\channel_ids3.json',\n",
       " 'data\\\\channel_ids4.json',\n",
       " 'data\\\\channel_ids5.json']"
      ]
     },
     "execution_count": 9,
     "metadata": {},
     "output_type": "execute_result"
    }
   ],
   "source": [
    "#Q4: What are the paths of all the files whose name contains channel_ids in our data directory?\n",
    "channel_paths = []\n",
    "for path in data_paths:\n",
    "    if 'channel_ids' in path:\n",
    "        channel_paths.append(path)\n",
    "channel_paths"
   ]
  },
  {
   "cell_type": "code",
   "execution_count": 10,
   "id": "c8cdb5d1",
   "metadata": {},
   "outputs": [],
   "source": [
    "def read_json(path):\n",
    "    with open(path, encoding=\"utf-8\") as f:\n",
    "        return json.load(f) # dict, list, etc"
   ]
  },
  {
   "cell_type": "code",
   "execution_count": 11,
   "id": "f111ca68",
   "metadata": {},
   "outputs": [],
   "source": [
    "def get_mapping(pathname):\n",
    "    \"\"\"\n",
    "    Given a path called pathname, load the json data at the path and return the loaded json data.\n",
    "    If a json.JSONDecodeError is thrown, an empty dictionary is returned.\n",
    "    \"\"\"\n",
    "    # TODO: copy this over from your lab\n",
    "    mapp = {}\n",
    "    try:\n",
    "        mapp = read_json(pathname)\n",
    "        return mapp\n",
    "    except json.JSONDecodeError:\n",
    "        return mapp"
   ]
  },
  {
   "cell_type": "code",
   "execution_count": 12,
   "id": "e86678a6",
   "metadata": {},
   "outputs": [
    {
     "data": {
      "text/plain": [
       "'Al Jazeera English'"
      ]
     },
     "execution_count": 12,
     "metadata": {},
     "output_type": "execute_result"
    }
   ],
   "source": [
    "#Q5: What is the name of the channel with the ID UCNye-wNBqNL5ZzHSJj3l8Bg?\n",
    "get_mapping(os.path.join('data','channel_ids1.json'))['UCNye-wNBqNL5ZzHSJj3l8Bg']"
   ]
  },
  {
   "cell_type": "code",
   "execution_count": 13,
   "id": "1d2dcb0a",
   "metadata": {},
   "outputs": [
    {
     "data": {
      "text/plain": [
       "372"
      ]
     },
     "execution_count": 13,
     "metadata": {},
     "output_type": "execute_result"
    }
   ],
   "source": [
    "#Q6: How many channels do we have in the entire dataset?\n",
    "channel_dict = {}\n",
    "for channel in channel_paths:\n",
    "    id_dict = get_mapping(channel)\n",
    "    channel_dict.update(id_dict)\n",
    "len(channel_dict)"
   ]
  },
  {
   "cell_type": "code",
   "execution_count": 14,
   "id": "0c19f5c9",
   "metadata": {},
   "outputs": [],
   "source": [
    "Comment = namedtuple('Comment',['video_id','comment_length','author_id','likes','published_at'])"
   ]
  },
  {
   "cell_type": "code",
   "execution_count": 15,
   "id": "c7257182",
   "metadata": {},
   "outputs": [],
   "source": [
    "# You will need process_csv in order to complete get_comment_data.\n",
    "# If you already copy/pasted it from lab, please ignore this copy.\n",
    "def process_csv(filename):\n",
    "    exampleFile = open(filename, encoding=\"utf-8\")  \n",
    "    exampleReader = csv.reader(exampleFile)\n",
    "    exampleData = list(exampleReader)        \n",
    "    exampleFile.close()  \n",
    "    return exampleData\n",
    "\n",
    "def get_comment_data(comment_file):\n",
    "    csv_data = process_csv(comment_file)\n",
    "    header = csv_data[0]\n",
    "    # TODO: if required, use a print function call to display header or alternatively, take a look at the comments csv file\n",
    "    comment_rows = csv_data[1:]\n",
    "    comment_id_idx = header.index(\"comment_id\")\n",
    "    video_id_idx = header.index(\"video_id\")\n",
    "    # TODO: Get the indices for the other columns\n",
    "    author_id_idx = header.index('author_id')\n",
    "    comment_length_idx = header.index('comment_length')\n",
    "    likes_idx = header.index('likes')\n",
    "    published_at_idx = header.index('published_at')\n",
    "    # TODO: Iterate over comment_rows\n",
    "    comment_info = {}\n",
    "    for i in comment_rows:\n",
    "        if len(i) != 6:\n",
    "            continue\n",
    "        try:\n",
    "            int(i[comment_length_idx])\n",
    "            int(i[likes_idx])\n",
    "        except:\n",
    "            continue\n",
    "        if i != '': \n",
    "            comment = Comment(i[video_id_idx],int(i[comment_length_idx]),i[author_id_idx],int(i[likes_idx]),i[published_at_idx])\n",
    "            comment_info[i[comment_id_idx]] = comment\n",
    "    return comment_info"
   ]
  },
  {
   "cell_type": "code",
   "execution_count": 16,
   "id": "4c1c4295",
   "metadata": {},
   "outputs": [
    {
     "data": {
      "text/plain": [
       "Comment(video_id='udNXMAflbU8', comment_length=175, author_id='UCHkk7x38KWgqjQOHqsQwf0Q', likes=47, published_at='2021-10-10 17:48:38')"
      ]
     },
     "execution_count": 16,
     "metadata": {},
     "output_type": "execute_result"
    }
   ],
   "source": [
    "#Q7: What is the Comment object with comment ID UgygOezB4Mvd5o6FgAt4AaABAg?\n",
    "get_comment_data(os.path.join('data','comment_data1.csv'))['UgygOezB4Mvd5o6FgAt4AaABAg']"
   ]
  },
  {
   "cell_type": "code",
   "execution_count": 17,
   "id": "bd60c244",
   "metadata": {},
   "outputs": [],
   "source": [
    "comments = {}\n",
    "for file in comment_paths:\n",
    "    comments.update(get_comment_data(file))"
   ]
  },
  {
   "cell_type": "code",
   "execution_count": 18,
   "id": "0fd0a204",
   "metadata": {},
   "outputs": [
    {
     "data": {
      "text/plain": [
       "67"
      ]
     },
     "execution_count": 18,
     "metadata": {},
     "output_type": "execute_result"
    }
   ],
   "source": [
    "#Q8: What is the length of the comment with ID UgztIaGfqFoiGvbOdfp4AaABAg?\n",
    "comments['UgztIaGfqFoiGvbOdfp4AaABAg'].comment_length"
   ]
  },
  {
   "cell_type": "code",
   "execution_count": 19,
   "id": "009e7888",
   "metadata": {},
   "outputs": [
    {
     "data": {
      "text/plain": [
       "86.87012136274309"
      ]
     },
     "execution_count": 19,
     "metadata": {},
     "output_type": "execute_result"
    }
   ],
   "source": [
    "#Q9: What percentage of comments are at most 140 characters long?\n",
    "num = 0\n",
    "for comment in comments:\n",
    "    if comments[comment].comment_length != '':\n",
    "        comLen = int(comments[comment].comment_length)\n",
    "        if comLen <= 140:\n",
    "            num += 1\n",
    "num/len(comments)*100"
   ]
  },
  {
   "cell_type": "code",
   "execution_count": 20,
   "id": "6588d15c",
   "metadata": {},
   "outputs": [
    {
     "data": {
      "text/plain": [
       "'UCIPPMRA040LQr5QPyJEbmXA'"
      ]
     },
     "execution_count": 20,
     "metadata": {},
     "output_type": "execute_result"
    }
   ],
   "source": [
    "#Q10: What is the author ID of the comment that has the highest number of likes?\n",
    "max = 0\n",
    "for comment in comments:\n",
    "    if comments[comment].likes != '':\n",
    "        try:\n",
    "            int(comments[comment].likes)\n",
    "        except:\n",
    "            continue\n",
    "        comLikes = int(comments[comment].likes)\n",
    "        if comLikes > max:\n",
    "            max = comLikes\n",
    "            authorId = comments[comment].author_id\n",
    "authorId"
   ]
  },
  {
   "cell_type": "code",
   "execution_count": 21,
   "id": "a1881b0b",
   "metadata": {},
   "outputs": [
    {
     "data": {
      "text/plain": [
       "19"
      ]
     },
     "execution_count": 21,
     "metadata": {},
     "output_type": "execute_result"
    }
   ],
   "source": [
    "#Q11: What is the most popular hour for publishing comments?\n",
    "hours = []\n",
    "for comment in comments:\n",
    "    hours.append(comments[comment].published_at[11:13])\n",
    "uniqHours = list(set(hours))\n",
    "max = 0\n",
    "for hour in uniqHours:\n",
    "    if hour != '':\n",
    "        if hours.count(hour) > max:\n",
    "            max = hours.count(hour)\n",
    "            ans = int(hour)\n",
    "ans"
   ]
  },
  {
   "cell_type": "code",
   "execution_count": 22,
   "id": "c09c662b",
   "metadata": {},
   "outputs": [],
   "source": [
    "comment_buckets = {}\n",
    "vidId = []\n",
    "for comment in comments:\n",
    "    if comments[comment].video_id not in vidId:\n",
    "        vidId.append(comments[comment].video_id)\n",
    "for video in vidId:\n",
    "    commentVid = []\n",
    "    for comment in comments:\n",
    "        if comments[comment].video_id == video:\n",
    "            commentVid.append(comment)\n",
    "    comment_buckets[video] = commentVid"
   ]
  },
  {
   "cell_type": "code",
   "execution_count": 23,
   "id": "a4de1c3a",
   "metadata": {},
   "outputs": [
    {
     "data": {
      "text/plain": [
       "606"
      ]
     },
     "execution_count": 23,
     "metadata": {},
     "output_type": "execute_result"
    }
   ],
   "source": [
    "#Q12: How many comments does the video with ID A8rrr_w8rfk have?\n",
    "len(comment_buckets['A8rrr_w8rfk'])"
   ]
  },
  {
   "cell_type": "code",
   "execution_count": 24,
   "id": "6d7b3743",
   "metadata": {},
   "outputs": [
    {
     "data": {
      "text/plain": [
       "493"
      ]
     },
     "execution_count": 24,
     "metadata": {},
     "output_type": "execute_result"
    }
   ],
   "source": [
    "def get_videos(data_file, video_mapping_file):\n",
    "    \"\"\"\n",
    "    Given data_file (csv file) and video_mapping_file (json) file, generates a video\n",
    "    dictionary, mapping video ID to a dictionary containing title, and other details of the video.\n",
    "    Handles missing entry in video_ids.json by using try / except blocks to handle KeyError.\n",
    "    \"\"\"\n",
    "    data = process_csv(data_file)\n",
    "    header = data[0]\n",
    "    all_videos = data[1:]\n",
    "    video_mapping = get_mapping(video_mapping_file)\n",
    "    videos_dict = dict()\n",
    "    for video in all_videos: # You may find it helpful to do all_videos[:5] to only look at the first 5 videos.\n",
    "        # TODO: for start, use print function call to display each video row\n",
    "        # TODO: Construct the dictionary.\n",
    "        vid_info = {}\n",
    "        vid = {}\n",
    "        for j in range(len(header)):\n",
    "            if video[j] in video_mapping:\n",
    "                vid_info['title'] = video_mapping[video[j]]\n",
    "                for  i in range(len(header)):\n",
    "                    vid_info[header[i]] = video[i]\n",
    "                    vid[header[i]] = video[i]\n",
    "                vid_info.pop('video_id')\n",
    "                vid_info.pop('channel_id')\n",
    "                videos_dict[video[j]]  = vid_info\n",
    "                videos_dict[video[j]]  = vid_info\n",
    "                videos_dict[video[j]]['views'] = int(videos_dict[video[j]]['views'])\n",
    "                videos_dict[video[j]]['tags'] =  videos_dict[video[j]]['tags'].split('|')\n",
    "                if videos_dict[video[j]]['likes'] == '':\n",
    "                    videos_dict[video[j]]['ratings_enabled'] = False\n",
    "                    videos_dict[video[j]]['likes'] = None\n",
    "                    videos_dict[video[j]]['dislikes'] = None\n",
    "                else:\n",
    "                    videos_dict[video[j]]['likes'] = int(videos_dict[video[j]]['likes'])\n",
    "                    videos_dict[video[j]]['dislikes'] = int(videos_dict[video[j]]['dislikes'])\n",
    "                    videos_dict[video[j]]['ratings_enabled'] = True\n",
    "                videos_dict[video[j]]['channel_name'] = channel_dict[vid['channel_id']]\n",
    "                videos_dict[video[j]]['comments'] = comment_buckets[vid['video_id']]\n",
    "    return videos_dict\n",
    "videos = get_videos(os.path.join('data','video_data.csv'), os.path.join('data','video_ids.json'))\n",
    "len(videos)"
   ]
  },
  {
   "cell_type": "code",
   "execution_count": 24,
   "id": "4f036390",
   "metadata": {},
   "outputs": [
    {
     "data": {
      "text/plain": [
       "{'title': 'SWAWS | Totally Accurate Battlegrounds',\n",
       " 'published_at': '2021-10-12 19:01:41',\n",
       " 'duration': '00:18:46',\n",
       " 'category': 'Gaming',\n",
       " 'tags': ['tot',\n",
       "  'totally accurate battlegrounds',\n",
       "  'tabg',\n",
       "  'totally accurate battle simulator',\n",
       "  'totally accurate battlegrounds gameplay',\n",
       "  'totally accurate battle grounds',\n",
       "  'tabg gameplay',\n",
       "  'tabg game',\n",
       "  'tabs',\n",
       "  'totally accurate',\n",
       "  'totally accurate battle royale',\n",
       "  'battle royale',\n",
       "  'tabg funny',\n",
       "  'fortnite',\n",
       "  'battlegrounds',\n",
       "  'tabs battle royale',\n",
       "  'new battle royale',\n",
       "  'pubg',\n",
       "  'totally accurate battlegrounds funny',\n",
       "  'swaws',\n",
       "  'swaws meme',\n",
       "  'swaws russian badger',\n",
       "  'tabg update',\n",
       "  'tabg win',\n",
       "  'tabg br',\n",
       "  'free to play pc games',\n",
       "  'free to play'],\n",
       " 'views': 3172185,\n",
       " 'likes': 210951,\n",
       " 'dislikes': 1824,\n",
       " 'ratings_enabled': True,\n",
       " 'channel_name': 'TheRussianBadger',\n",
       " 'comments': ['UgzgwN2JXxjTN4mR5954AaABAg.9TPxukUd20g9TQLnJi3RFU',\n",
       "  'Ugw8z3sbkSQQpgINHdl4AaABAg',\n",
       "  'UgyjZAl0XlNg-gOZ0jR4AaABAg.9TPyCmI6pbl9TQAXc7oVx_',\n",
       "  'Ugy1W1ldfeXB5VavpEB4AaABAg',\n",
       "  'Ugz-5ND1_48bvR--K-h4AaABAg.9TcESnaSWQO9TwybqLquLh',\n",
       "  'Ugw8yRjg6yeaJ-KJmvN4AaABAg',\n",
       "  'Ugxvp2D5qsf_Kz3qLfJ4AaABAg',\n",
       "  'UgyjZAl0XlNg-gOZ0jR4AaABAg.9TPyCmI6pbl9TS3pUjvdvY',\n",
       "  'Ugx7Z_ZM2zeYpgTo2V54AaABAg.9TPtkn_qSTN9TQ53TeDjlr',\n",
       "  'UgyJSgJPxm3-cOi3bSh4AaABAg',\n",
       "  'UgxpmEEjcu4ATnKp_dt4AaABAg.9TPdawdmb1E9TS4AKca9bH',\n",
       "  'Ugwq8srR6ykQ2_6mgRB4AaABAg',\n",
       "  'UgyjZAl0XlNg-gOZ0jR4AaABAg',\n",
       "  'Ugyvf9XkcWXRZx7icN14AaABAg',\n",
       "  'UgyjZAl0XlNg-gOZ0jR4AaABAg.9TPyCmI6pbl9TQFiNbKjs4',\n",
       "  'UgxHObmG9Ifype4Dtjh4AaABAg',\n",
       "  'Ugy2t0J2rMrLqVCcAxV4AaABAg',\n",
       "  'UgzZWUkzBIwfWd81Azd4AaABAg.9TSUVio8FDs9TX0cFy0cPn',\n",
       "  'Ugxp63hxPOpvnQXfmfN4AaABAg',\n",
       "  'Ugywck2nfxGf1P-jGrV4AaABAg.9TTUaC5BZm99TUWmUYdTW3',\n",
       "  'UgyF54uSxOw317OaxW94AaABAg',\n",
       "  'Ugz-hiG5y5Ifo2hXQRd4AaABAg.9TPd_-XUJf_9TS3y-fezid',\n",
       "  'UgwQZBclHDt-blfzYwh4AaABAg',\n",
       "  'UgzZWUkzBIwfWd81Azd4AaABAg.9TSUVio8FDs9TUQsdd2w1L',\n",
       "  'Ugz-hiG5y5Ifo2hXQRd4AaABAg.9TPd_-XUJf_9TQEttSsTwV',\n",
       "  'Ugz-hiG5y5Ifo2hXQRd4AaABAg.9TPd_-XUJf_9TabMdgwb7s',\n",
       "  'Ugz5310iuzanBWihavR4AaABAg',\n",
       "  'UgzvogxMg82Kj0aW84x4AaABAg',\n",
       "  'UgzZWUkzBIwfWd81Azd4AaABAg.9TSUVio8FDs9TUyS8-BWoG',\n",
       "  'UgwDeZIB2YoH3gT3LNt4AaABAg',\n",
       "  'UgzakPEp05WspBho1RJ4AaABAg.9TlhjvACtRu9TyzsrPsOxh',\n",
       "  'UgyZtlx_fwNidAjBVdR4AaABAg',\n",
       "  'UgwNv3MdCPrD0arufSZ4AaABAg',\n",
       "  'UgyXBz5CH6Q9rmwcRhp4AaABAg.9TQ2wkUS5H99TxG3z1lyQL',\n",
       "  'UgxUGNNhbZQnp9D_Yep4AaABAg',\n",
       "  'Ugxw406F2KiRt6h0Eg54AaABAg.9TQRqjzQH199TQiRp2YQOJ',\n",
       "  'Ugyi22jKbQYthMkJnaN4AaABAg',\n",
       "  'Ugz-5ND1_48bvR--K-h4AaABAg',\n",
       "  'Ugz5jelTNmzEROhDeUB4AaABAg',\n",
       "  'UgyIBw19on3SuDypRTx4AaABAg',\n",
       "  'UgxvNfLi21bGDhlsuGN4AaABAg.9TQRqu-Qzx79TWgpd0gXUF',\n",
       "  'UgzaSBdz7kdutGQnJJJ4AaABAg',\n",
       "  'UgyF54uSxOw317OaxW94AaABAg.9TQ42Lqa9o09Tc8fhL52xl']}"
      ]
     },
     "execution_count": 24,
     "metadata": {},
     "output_type": "execute_result"
    }
   ],
   "source": [
    "#Q13: What is the video with ID fkMW60W180E?\n",
    "videos['fkMW60W180E']"
   ]
  },
  {
   "cell_type": "code",
   "execution_count": 25,
   "id": "4942d8ae",
   "metadata": {},
   "outputs": [
    {
     "data": {
      "text/plain": [
       "'A Mukbanger Ate 1 Gallon Pickles. This Is What Happened To Her Brain.'"
      ]
     },
     "execution_count": 25,
     "metadata": {},
     "output_type": "execute_result"
    }
   ],
   "source": [
    "#Q14: What is the title of the video with ID gF69voHU_ys?\n",
    "videos['gF69voHU_ys']['title']"
   ]
  },
  {
   "cell_type": "code",
   "execution_count": 26,
   "id": "166c2e1b",
   "metadata": {},
   "outputs": [
    {
     "data": {
      "text/plain": [
       "'[In the SOOP BTS ver. Season 2] Official Teaser 2'"
      ]
     },
     "execution_count": 26,
     "metadata": {},
     "output_type": "execute_result"
    }
   ],
   "source": [
    "#Q15: Among the videos with more than 1 million views, what is the title of the video with the highest likes to views ratio?\n",
    "max = 0\n",
    "for video in videos:\n",
    "    views = videos[video]['views']\n",
    "    likes = videos[video]['likes']\n",
    "    if views > 1000000:\n",
    "        if likes != None:\n",
    "            if likes/views > max:\n",
    "                max = likes/views\n",
    "                ans = videos[video]['title']\n",
    "ans"
   ]
  },
  {
   "cell_type": "code",
   "execution_count": 27,
   "id": "26448755",
   "metadata": {},
   "outputs": [
    {
     "data": {
      "text/plain": [
       "'UCRvcDpyxCVmlLI8Q2TjRpmg'"
      ]
     },
     "execution_count": 27,
     "metadata": {},
     "output_type": "execute_result"
    }
   ],
   "source": [
    "#Q16: What is the author ID of the most liked comment under the video titled 'Giving Away My Beard For Charity!'?\n",
    "for video in videos:\n",
    "    if videos[video]['title'] == 'Giving Away My Beard For Charity!':\n",
    "        reqId = video\n",
    "max = 0\n",
    "for comment in comments:\n",
    "    if comments[comment].video_id == reqId:\n",
    "        if int(comments[comment].likes) > max:\n",
    "            max = int(comments[comment].likes)\n",
    "            reqAuthor = comments[comment].author_id\n",
    "reqAuthor"
   ]
  },
  {
   "cell_type": "code",
   "execution_count": 28,
   "id": "9d725b75",
   "metadata": {},
   "outputs": [],
   "source": [
    "def bucketize(attribute, videos=videos):\n",
    "    buckets = {}\n",
    "    if attribute == \"comments\" or attribute  == \"tags\":\n",
    "        for video in videos:\n",
    "            for i in range(len(videos[video][attribute])):\n",
    "                var = videos[video][attribute][i]\n",
    "                if not var in buckets:\n",
    "                    buckets[var] = []\n",
    "                buckets[var].append(video)\n",
    "    else:\n",
    "        for video in videos:\n",
    "            var = videos[video][attribute]\n",
    "            if not var in buckets:\n",
    "                buckets[var] = []\n",
    "            buckets[var].append(video)\n",
    "    return buckets"
   ]
  },
  {
   "cell_type": "code",
   "execution_count": 29,
   "id": "d9a203bb",
   "metadata": {},
   "outputs": [],
   "source": [
    "category_dict = bucketize('category')\n",
    "assert category_dict['Pets & Animals'] == ['Hz_DslzN2IA', 'AwvyrO_yM4c']"
   ]
  },
  {
   "cell_type": "code",
   "execution_count": 30,
   "id": "2936a0f1",
   "metadata": {},
   "outputs": [
    {
     "data": {
      "text/plain": [
       "['VFX Artists React to SHANG-CHi Bad & Great CGi',\n",
       " 'VFX Artists React to Bad & Great CGi 54 (ft. SETH ROGEN)']"
      ]
     },
     "execution_count": 30,
     "metadata": {},
     "output_type": "execute_result"
    }
   ],
   "source": [
    "#Q17: Which video titles were produced by the \"Corridor Crew\" channel?\n",
    "channel_buckets = bucketize('channel_name',videos)\n",
    "answer = []\n",
    "for video in channel_buckets['Corridor Crew']:\n",
    "    answer.append(videos[video]['title'])\n",
    "answer"
   ]
  },
  {
   "cell_type": "code",
   "execution_count": 31,
   "id": "7c3fe27f",
   "metadata": {},
   "outputs": [
    {
     "data": {
      "text/plain": [
       "['NFL', 'Minecraft', 'Saturday Night Live', 'SSSniperWolf', 'PBC ON FOX']"
      ]
     },
     "execution_count": 31,
     "metadata": {},
     "output_type": "execute_result"
    }
   ],
   "source": [
    "#Q18: What are the top 5 channels that have the most total comments on their videos?\n",
    "numComments = {}\n",
    "for channel in channel_buckets:\n",
    "    commentAll = 0 \n",
    "    for i in range(len(channel_buckets[channel])):\n",
    "        video = channel_buckets[channel][i]\n",
    "        commentAll += len(videos[video]['comments'])\n",
    "        numComments[channel] = commentAll\n",
    "numComments = dict(sorted(numComments.items(), key=lambda item: item[1],reverse= True))\n",
    "top5 = []\n",
    "counter = 0\n",
    "for channel in numComments:\n",
    "    counter += 1\n",
    "    top5.append(channel)\n",
    "    if counter > 4:\n",
    "        break\n",
    "top5"
   ]
  },
  {
   "cell_type": "code",
   "execution_count": 32,
   "id": "bb93b1e1",
   "metadata": {},
   "outputs": [
    {
     "data": {
      "text/plain": [
       "['Which Mob Am I Voting For in Minecraft Live 2021?!',\n",
       " 'So I made Dance Moves control Minecraft...',\n",
       " 'I Won SQUID GAME In GTA 5! (Mods)',\n",
       " 'Playing SQUID GAME In Minecraft!',\n",
       " \"Minecraft, But We're All Mutant Superhumans...\",\n",
       " 'I Designed Custom Minecraft Bosses...',\n",
       " 'She Wants Us DEAD! 💀 Dark Deception Chapter 4 (FGTeeV Telekinesis Gameplay)',\n",
       " 'Becoming SQUID GAME Host in GTA 5! (GTA 5 Mods)',\n",
       " 'I Survived 100 Days as a PANDA in HARDCORE Minecraft!',\n",
       " '100 Days, But There Are Custom Dimensions...',\n",
       " '\"Eternal\" - A Minecraft Music Video ♪',\n",
       " 'I Survived 100 Days as a FOX in HARDCORE Minecraft!',\n",
       " 'I Trapped 10 YouTubers on One Block',\n",
       " \"Minecraft, But There's Custom End City Items...\",\n",
       " 'What Mob Should Be Added To Minecraft?',\n",
       " 'I Survived 69 Hours Using Only Minecraft Tools',\n",
       " 'I Built an AUTOMATIC Mob Loot Farm in Minecraft Hardcore! (#22)',\n",
       " 'Minecraft Death Shuffle...',\n",
       " 'We Fought a Viking Horde...',\n",
       " 'Minecraft Mobs when you log off...',\n",
       " 'Realistic Water in Minecraft...',\n",
       " 'You Laugh You Lose Is Even Funnier In Real Life...',\n",
       " 'Minecraft Mobs if they were Parents',\n",
       " 'Hermitcraft 8 Episode 14:  BETRAYING BOATEM',\n",
       " '46 Minecraft Blocks Mojang Had To Remove',\n",
       " 'Playing SQUID GAME in Minecraft!',\n",
       " 'Philza And Wilbur TEACH Tommy To FLY And Its SCUFFED LORE! ORIGINS SMP',\n",
       " 'Minecraft, But I Add A Marshmallow Every Minute...',\n",
       " 'Minecraft Manhunt but I have CUSTOM COMMANDS',\n",
       " 'Minecraft but you can Eat Mobs',\n",
       " 'SURVIVING SQUID GAME in GTA 5',\n",
       " 'Jumping SQUID GAME CARS Across ENTIRE MAP In GTA 5! (Mods)',\n",
       " \"2b2t's Obsidian War is Getting Ridiculous\",\n",
       " 'Minecraft But I Upgrade EVERYTHING - The ULTIMATE Survival World! | Part 4',\n",
       " 'Realistic Golem Transforming',\n",
       " 'can 1 pixel of water save you?',\n",
       " 'Last Life: Episode 4 - UH OH!',\n",
       " 'Minecraft Mobs if they were Superheroes',\n",
       " 'Minecraft, But I Add A Marshmallow Every Minute... - Extra Scenes',\n",
       " 'I Cheated with a \"FAKE\" Professional Builder in a Building Competition...',\n",
       " 'Minecraft, But You Can Upgrade TNT...',\n",
       " 'I Was In The Funniest Minecraft Competition With Dream',\n",
       " 'I Found the RICHEST Server in Minecraft! *millionaire*',\n",
       " 'Minecraft - Last Life #3: Frightening Exploit Tactics',\n",
       " 'I made a custom mod in minecraft with your ideas',\n",
       " 'MURDER DRONES [OFFICIAL TRAILER]',\n",
       " 'I Survived 1,900 Days in HARDCORE Minecraft...',\n",
       " 'Building AUTOMATIC FARMS in Minecraft Hardcore (#52)',\n",
       " 'I Survived 100 Days as an ENDER DRAGON in Minecraft',\n",
       " 'I tested them in Minecraft early and so should you...',\n",
       " 'Minecraft but all Mobs are Dragons',\n",
       " 'What is the Safest Base Possible in Minecraft?',\n",
       " 'LAST TO LEAVE THE MYSTERY MACHINE WINS $10,000',\n",
       " \"Minecraft, But You Can't Leave The End...\"]"
      ]
     },
     "execution_count": 32,
     "metadata": {},
     "output_type": "execute_result"
    }
   ],
   "source": [
    "#Q19: List all the unique video titles which have Minecraft tags.\n",
    "tag_buckets = bucketize('tags',videos)\n",
    "minecraftTag = []\n",
    "for tag in tag_buckets:\n",
    "    if 'minecraft' in tag.lower():\n",
    "        for i in range(len(tag_buckets[tag])):\n",
    "            minecraftTag.append(videos[tag_buckets[tag][i]]['title'])\n",
    "minecraftTag = list(set(minecraftTag))\n",
    "minecraftTag"
   ]
  },
  {
   "cell_type": "code",
   "execution_count": 33,
   "id": "1b4615fa",
   "metadata": {},
   "outputs": [
    {
     "data": {
      "text/plain": [
       "['When someone walks in while you using the bathroom😭',\n",
       " 'Smart Appliances, Gadgets For Every Home 🤩 Versatile Utensils, Kitchen, Makeup, Beauty #Shorts',\n",
       " 'Italians reacting to ketchup on pasta 😱🇮🇹 #shorts',\n",
       " 'My hidden talent #shorts',\n",
       " 'Knot']"
      ]
     },
     "execution_count": 33,
     "metadata": {},
     "output_type": "execute_result"
    }
   ],
   "source": [
    "#Q20: List the titles of the 5 shortest videos.\n",
    "duration_buckets = bucketize('duration',videos)\n",
    "duration_buckets = dict(sorted(duration_buckets.items(), key=lambda item: item[0]))\n",
    "shortest_five = []\n",
    "count = 0\n",
    "for duration in duration_buckets:\n",
    "    for i in range(len(duration_buckets[duration])):\n",
    "        count += 1\n",
    "        shortest_five.append(videos[duration_buckets[duration][i]]['title'])\n",
    "        if count > 4:\n",
    "            break\n",
    "    if count > 4:\n",
    "            break\n",
    "shortest_five"
   ]
  },
  {
   "cell_type": "code",
   "execution_count": null,
   "id": "9d866af0",
   "metadata": {},
   "outputs": [],
   "source": []
  }
 ],
 "metadata": {
  "kernelspec": {
   "display_name": "Python 3 (ipykernel)",
   "language": "python",
   "name": "python3"
  },
  "language_info": {
   "codemirror_mode": {
    "name": "ipython",
    "version": 3
   },
   "file_extension": ".py",
   "mimetype": "text/x-python",
   "name": "python",
   "nbconvert_exporter": "python",
   "pygments_lexer": "ipython3",
   "version": "3.9.7"
  }
 },
 "nbformat": 4,
 "nbformat_minor": 5
}
